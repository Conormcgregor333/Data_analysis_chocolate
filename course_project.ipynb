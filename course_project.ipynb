{
 "cells": [
  {
   "cell_type": "markdown",
   "id": "a73a7be8",
   "metadata": {},
   "source": [
    "# FLAVORS OF CHOCOLATE\n",
    "<span style=\"color:blue\">WHEN IN DOUBT , EAT A CHOCOLATE</span>"
   ]
  },
  {
   "cell_type": "markdown",
   "id": "30558006",
   "metadata": {},
   "source": [
    "![alt text](choco.jpg \"choco\")"
   ]
  },
  {
   "cell_type": "markdown",
   "id": "9a734270",
   "metadata": {},
   "source": [
    "Chocolate is one of the most popular candies in the world. Each year, residents of the United States collectively eat more than 2.8 billions pounds. However, not all chocolate bars are created equal! This dataset contains expert ratings of over 1,700 individual chocolate bars, along with information on their regional origin, percentage of cocoa, the variety of chocolate bean used and where the beans were grown."
   ]
  },
  {
   "cell_type": "markdown",
   "id": "274456a7",
   "metadata": {},
   "source": [
    "## Flavors of Cacao Rating System:\n",
    "* 5= Elite (Transcending beyond the ordinary limits)\n",
    "* 4= Premium (Superior flavor development, character and style)\n",
    "* 3= Satisfactory(3.0) to praiseworthy(3.75) (well made with special qualities)\n",
    "* 2= Disappointing (Passable but contains at least one significant flaw)\n",
    "* 1= Unpleasant (mostly unpalatable)"
   ]
  },
  {
   "cell_type": "markdown",
   "id": "5a2471ac",
   "metadata": {},
   "source": [
    "Each chocolate is evaluated from a combination of both objective qualities and subjective interpretation. A rating here only represents an experience with one bar from one batch. Batch numbers, vintages and review dates are included in the database when known.\n",
    "\n",
    "The database is narrowly focused on plain dark chocolate with an aim of appreciating the flavors of the cacao when made into chocolate. The ratings do not reflect health benefits, social missions, or organic status."
   ]
  },
  {
   "cell_type": "markdown",
   "id": "ec6b20c4",
   "metadata": {},
   "source": [
    "### FUN_FACT-\n",
    "The smell of chocolate increases theta brain waves, which triggers relaxation"
   ]
  },
  {
   "cell_type": "markdown",
   "id": "904b11d5",
   "metadata": {},
   "source": [
    "### LETS BEGIN THE DATA ANALYSIS-"
   ]
  },
  {
   "cell_type": "markdown",
   "id": "6514cfb0",
   "metadata": {},
   "source": [
    "Before opening our chocolate bars , lets import pandas and use read_csv function to read the comma seperated values format files."
   ]
  },
  {
   "cell_type": "markdown",
   "id": "6adae129",
   "metadata": {},
   "source": [
    "SOMETHING ABOUT THE PANDAS-\n",
    "Pandas is an data analysis module for the Python programming language. It is open-source and BSD-licensed. The Pandas module isn’t bundled with Python, so you can manually install the module with pip."
   ]
  },
  {
   "cell_type": "code",
   "execution_count": 1,
   "id": "8d83a604",
   "metadata": {},
   "outputs": [],
   "source": [
    "import pandas as pd"
   ]
  },
  {
   "cell_type": "code",
   "execution_count": 2,
   "id": "0f5c37db",
   "metadata": {},
   "outputs": [],
   "source": [
    "chocolaty_df=pd.read_csv('flavors_of_cacao.csv')"
   ]
  },
  {
   "cell_type": "markdown",
   "id": "0df1f8a3",
   "metadata": {},
   "source": [
    "### Lets see how the table looks-"
   ]
  },
  {
   "cell_type": "code",
   "execution_count": null,
   "id": "633c6e11",
   "metadata": {},
   "outputs": [],
   "source": [
    "chocolaty_df"
   ]
  },
  {
   "cell_type": "markdown",
   "id": "ed7d422d",
   "metadata": {},
   "source": [
    "LETS FIND OUT THE SHAPE OF THE TABLE SO THAT WE CAN GET TO KNOW THE ROWS AND COLUMNS, USING THE shape FUNCTION."
   ]
  },
  {
   "cell_type": "code",
   "execution_count": 3,
   "id": "a403dbcb",
   "metadata": {},
   "outputs": [
    {
     "name": "stdout",
     "output_type": "stream",
     "text": [
      "The shape of the tables is (1795, 9).\n"
     ]
    }
   ],
   "source": [
    "shape_of_df=chocolaty_df.shape\n",
    "print('The shape of the tables is {}.'.format(shape_of_df))"
   ]
  },
  {
   "cell_type": "markdown",
   "id": "9ec31777",
   "metadata": {},
   "source": [
    "TO FIND OUT TEH DATA TYPE OF EACH COLUMN IN THE TABLE , WE USE THE FUNCTION info()-"
   ]
  },
  {
   "cell_type": "code",
   "execution_count": 4,
   "id": "57ea6780",
   "metadata": {
    "scrolled": true
   },
   "outputs": [
    {
     "name": "stdout",
     "output_type": "stream",
     "text": [
      "<class 'pandas.core.frame.DataFrame'>\n",
      "RangeIndex: 1795 entries, 0 to 1794\n",
      "Data columns (total 9 columns):\n",
      " #   Column                            Non-Null Count  Dtype  \n",
      "---  ------                            --------------  -----  \n",
      " 0   Company \n",
      "(Maker-if known)         1795 non-null   object \n",
      " 1   Specific Bean Origin\n",
      "or Bar Name  1795 non-null   object \n",
      " 2   REF                               1795 non-null   int64  \n",
      " 3   Review\n",
      "Date                       1795 non-null   int64  \n",
      " 4   Cocoa\n",
      "Percent                     1795 non-null   object \n",
      " 5   Company\n",
      "Location                  1795 non-null   object \n",
      " 6   Rating                            1795 non-null   float64\n",
      " 7   Bean\n",
      "Type                         1794 non-null   object \n",
      " 8   Broad Bean\n",
      "Origin                 1794 non-null   object \n",
      "dtypes: float64(1), int64(2), object(6)\n",
      "memory usage: 126.3+ KB\n"
     ]
    }
   ],
   "source": [
    "chocolaty_df.info()"
   ]
  },
  {
   "cell_type": "markdown",
   "id": "a8804c18",
   "metadata": {},
   "source": [
    "LOOKS LIKE THE TABLE NEEDS TO BE EDITED AS-\n",
    "1) It has line change characters in the column heading.\n",
    "2) Some of the columns values are of OBJECT data type , which needs to be converted to FLOAT datatype.\n",
    "3) We must add another column for the cocoa percentage which will represent the percentage values in FLOAT datatype. "
   ]
  },
  {
   "cell_type": "markdown",
   "id": "5c9c7129",
   "metadata": {},
   "source": [
    "WE CAN CHANGE THE COLUMNS NAME BY USING THE replace() FUNCTION WHICH ACCEPTS THE OLD COLUMN NAME AND THE NEW NAME WE WANT TO SET AS ARGUMENTS. "
   ]
  },
  {
   "cell_type": "code",
   "execution_count": 40,
   "id": "cffccb7a",
   "metadata": {},
   "outputs": [],
   "source": [
    "Chocolaty_df=chocolaty_df.rename(columns={'Review\\nDate':'Review_Date','Company \\nLocation':'Company_Location','Company \\n(Maker-if known)':'Company_(Maker-if known)','Specific Bean Origin\\nor Bar Name':'Bar_Name','Bean\\nType':'Bean_Type','Cocoa\\nPercent':'Cocoa_inPercent'})"
   ]
  },
  {
   "cell_type": "code",
   "execution_count": 41,
   "id": "f3817bf7",
   "metadata": {},
   "outputs": [
    {
     "data": {
      "text/html": [
       "<div>\n",
       "<style scoped>\n",
       "    .dataframe tbody tr th:only-of-type {\n",
       "        vertical-align: middle;\n",
       "    }\n",
       "\n",
       "    .dataframe tbody tr th {\n",
       "        vertical-align: top;\n",
       "    }\n",
       "\n",
       "    .dataframe thead th {\n",
       "        text-align: right;\n",
       "    }\n",
       "</style>\n",
       "<table border=\"1\" class=\"dataframe\">\n",
       "  <thead>\n",
       "    <tr style=\"text-align: right;\">\n",
       "      <th></th>\n",
       "      <th>Company \\n(Maker-if known)</th>\n",
       "      <th>Bar_Name</th>\n",
       "      <th>REF</th>\n",
       "      <th>Review_Date</th>\n",
       "      <th>Cocoa_inPercent</th>\n",
       "      <th>Company\\nLocation</th>\n",
       "      <th>Rating</th>\n",
       "      <th>Bean_Type</th>\n",
       "      <th>Broad Bean\\nOrigin</th>\n",
       "      <th>Cocoa_Percent</th>\n",
       "    </tr>\n",
       "  </thead>\n",
       "  <tbody>\n",
       "    <tr>\n",
       "      <th>0</th>\n",
       "      <td>A. Morin</td>\n",
       "      <td>Agua Grande</td>\n",
       "      <td>1876</td>\n",
       "      <td>2016</td>\n",
       "      <td>63%</td>\n",
       "      <td>France</td>\n",
       "      <td>3.75</td>\n",
       "      <td></td>\n",
       "      <td>Sao Tome</td>\n",
       "      <td>63.0</td>\n",
       "    </tr>\n",
       "    <tr>\n",
       "      <th>1</th>\n",
       "      <td>A. Morin</td>\n",
       "      <td>Kpime</td>\n",
       "      <td>1676</td>\n",
       "      <td>2015</td>\n",
       "      <td>70%</td>\n",
       "      <td>France</td>\n",
       "      <td>2.75</td>\n",
       "      <td></td>\n",
       "      <td>Togo</td>\n",
       "      <td>70.0</td>\n",
       "    </tr>\n",
       "    <tr>\n",
       "      <th>2</th>\n",
       "      <td>A. Morin</td>\n",
       "      <td>Atsane</td>\n",
       "      <td>1676</td>\n",
       "      <td>2015</td>\n",
       "      <td>70%</td>\n",
       "      <td>France</td>\n",
       "      <td>3.00</td>\n",
       "      <td></td>\n",
       "      <td>Togo</td>\n",
       "      <td>70.0</td>\n",
       "    </tr>\n",
       "    <tr>\n",
       "      <th>3</th>\n",
       "      <td>A. Morin</td>\n",
       "      <td>Akata</td>\n",
       "      <td>1680</td>\n",
       "      <td>2015</td>\n",
       "      <td>70%</td>\n",
       "      <td>France</td>\n",
       "      <td>3.50</td>\n",
       "      <td></td>\n",
       "      <td>Togo</td>\n",
       "      <td>70.0</td>\n",
       "    </tr>\n",
       "    <tr>\n",
       "      <th>4</th>\n",
       "      <td>A. Morin</td>\n",
       "      <td>Quilla</td>\n",
       "      <td>1704</td>\n",
       "      <td>2015</td>\n",
       "      <td>70%</td>\n",
       "      <td>France</td>\n",
       "      <td>3.50</td>\n",
       "      <td></td>\n",
       "      <td>Peru</td>\n",
       "      <td>70.0</td>\n",
       "    </tr>\n",
       "    <tr>\n",
       "      <th>...</th>\n",
       "      <td>...</td>\n",
       "      <td>...</td>\n",
       "      <td>...</td>\n",
       "      <td>...</td>\n",
       "      <td>...</td>\n",
       "      <td>...</td>\n",
       "      <td>...</td>\n",
       "      <td>...</td>\n",
       "      <td>...</td>\n",
       "      <td>...</td>\n",
       "    </tr>\n",
       "    <tr>\n",
       "      <th>1790</th>\n",
       "      <td>Zotter</td>\n",
       "      <td>Peru</td>\n",
       "      <td>647</td>\n",
       "      <td>2011</td>\n",
       "      <td>70%</td>\n",
       "      <td>Austria</td>\n",
       "      <td>3.75</td>\n",
       "      <td></td>\n",
       "      <td>Peru</td>\n",
       "      <td>70.0</td>\n",
       "    </tr>\n",
       "    <tr>\n",
       "      <th>1791</th>\n",
       "      <td>Zotter</td>\n",
       "      <td>Congo</td>\n",
       "      <td>749</td>\n",
       "      <td>2011</td>\n",
       "      <td>65%</td>\n",
       "      <td>Austria</td>\n",
       "      <td>3.00</td>\n",
       "      <td>Forastero</td>\n",
       "      <td>Congo</td>\n",
       "      <td>65.0</td>\n",
       "    </tr>\n",
       "    <tr>\n",
       "      <th>1792</th>\n",
       "      <td>Zotter</td>\n",
       "      <td>Kerala State</td>\n",
       "      <td>749</td>\n",
       "      <td>2011</td>\n",
       "      <td>65%</td>\n",
       "      <td>Austria</td>\n",
       "      <td>3.50</td>\n",
       "      <td>Forastero</td>\n",
       "      <td>India</td>\n",
       "      <td>65.0</td>\n",
       "    </tr>\n",
       "    <tr>\n",
       "      <th>1793</th>\n",
       "      <td>Zotter</td>\n",
       "      <td>Kerala State</td>\n",
       "      <td>781</td>\n",
       "      <td>2011</td>\n",
       "      <td>62%</td>\n",
       "      <td>Austria</td>\n",
       "      <td>3.25</td>\n",
       "      <td></td>\n",
       "      <td>India</td>\n",
       "      <td>62.0</td>\n",
       "    </tr>\n",
       "    <tr>\n",
       "      <th>1794</th>\n",
       "      <td>Zotter</td>\n",
       "      <td>Brazil, Mitzi Blue</td>\n",
       "      <td>486</td>\n",
       "      <td>2010</td>\n",
       "      <td>65%</td>\n",
       "      <td>Austria</td>\n",
       "      <td>3.00</td>\n",
       "      <td></td>\n",
       "      <td>Brazil</td>\n",
       "      <td>65.0</td>\n",
       "    </tr>\n",
       "  </tbody>\n",
       "</table>\n",
       "<p>1795 rows × 10 columns</p>\n",
       "</div>"
      ],
      "text/plain": [
       "     Company \\n(Maker-if known)            Bar_Name   REF  Review_Date  \\\n",
       "0                      A. Morin         Agua Grande  1876         2016   \n",
       "1                      A. Morin               Kpime  1676         2015   \n",
       "2                      A. Morin              Atsane  1676         2015   \n",
       "3                      A. Morin               Akata  1680         2015   \n",
       "4                      A. Morin              Quilla  1704         2015   \n",
       "...                         ...                 ...   ...          ...   \n",
       "1790                     Zotter                Peru   647         2011   \n",
       "1791                     Zotter               Congo   749         2011   \n",
       "1792                     Zotter        Kerala State   749         2011   \n",
       "1793                     Zotter        Kerala State   781         2011   \n",
       "1794                     Zotter  Brazil, Mitzi Blue   486         2010   \n",
       "\n",
       "     Cocoa_inPercent Company\\nLocation  Rating  Bean_Type Broad Bean\\nOrigin  \\\n",
       "0                63%            France    3.75                      Sao Tome   \n",
       "1                70%            France    2.75                          Togo   \n",
       "2                70%            France    3.00                          Togo   \n",
       "3                70%            France    3.50                          Togo   \n",
       "4                70%            France    3.50                          Peru   \n",
       "...              ...               ...     ...        ...                ...   \n",
       "1790             70%           Austria    3.75                          Peru   \n",
       "1791             65%           Austria    3.00  Forastero              Congo   \n",
       "1792             65%           Austria    3.50  Forastero              India   \n",
       "1793             62%           Austria    3.25                         India   \n",
       "1794             65%           Austria    3.00                        Brazil   \n",
       "\n",
       "      Cocoa_Percent  \n",
       "0              63.0  \n",
       "1              70.0  \n",
       "2              70.0  \n",
       "3              70.0  \n",
       "4              70.0  \n",
       "...             ...  \n",
       "1790           70.0  \n",
       "1791           65.0  \n",
       "1792           65.0  \n",
       "1793           62.0  \n",
       "1794           65.0  \n",
       "\n",
       "[1795 rows x 10 columns]"
      ]
     },
     "execution_count": 41,
     "metadata": {},
     "output_type": "execute_result"
    }
   ],
   "source": [
    "Chocolaty_df"
   ]
  },
  {
   "cell_type": "markdown",
   "id": "b9938aa2",
   "metadata": {},
   "source": [
    "WE CHANGED THE DATA TYPE OF THE Cocoa_inPercent COLUMN TO A NUMERIC DATA TYPE-"
   ]
  },
  {
   "cell_type": "code",
   "execution_count": 13,
   "id": "818daf63",
   "metadata": {},
   "outputs": [
    {
     "data": {
      "text/plain": [
       "0       63.0\n",
       "1       70.0\n",
       "2       70.0\n",
       "3       70.0\n",
       "4       70.0\n",
       "        ... \n",
       "1790    70.0\n",
       "1791    65.0\n",
       "1792    65.0\n",
       "1793    62.0\n",
       "1794    65.0\n",
       "Name: Cocoa_Percent, Length: 1795, dtype: float64"
      ]
     },
     "execution_count": 13,
     "metadata": {},
     "output_type": "execute_result"
    }
   ],
   "source": [
    "Chocolaty_df['Cocoa_Percent']  = Chocolaty_df['Cocoa_inPercent'].str.replace('%','')\n",
    "# FIRST WE SEPERATED THE % SIGN AND CHANGED THE NAME OF THE COLUMN.\n",
    "Chocolaty_df['Cocoa_Percent'] =pd.to_numeric(Chocolaty_df['Cocoa_Percent'])\n",
    "#NOW WE HAVE CONVERTED THE COLUMN'S DATA TYPE TO FLOAT USING THE to_numeric FUNCTION.\n",
    "Chocolaty_df['Cocoa_Percent'] "
   ]
  },
  {
   "cell_type": "markdown",
   "id": "d404ec60",
   "metadata": {},
   "source": [
    "NOW LETS SEE HOW THE EDITED TABLE LOOKS LIKE-"
   ]
  },
  {
   "cell_type": "code",
   "execution_count": 14,
   "id": "e9131061",
   "metadata": {},
   "outputs": [
    {
     "data": {
      "text/html": [
       "<div>\n",
       "<style scoped>\n",
       "    .dataframe tbody tr th:only-of-type {\n",
       "        vertical-align: middle;\n",
       "    }\n",
       "\n",
       "    .dataframe tbody tr th {\n",
       "        vertical-align: top;\n",
       "    }\n",
       "\n",
       "    .dataframe thead th {\n",
       "        text-align: right;\n",
       "    }\n",
       "</style>\n",
       "<table border=\"1\" class=\"dataframe\">\n",
       "  <thead>\n",
       "    <tr style=\"text-align: right;\">\n",
       "      <th></th>\n",
       "      <th>Company \\n(Maker-if known)</th>\n",
       "      <th>Bar_Name</th>\n",
       "      <th>REF</th>\n",
       "      <th>Review_Date</th>\n",
       "      <th>Cocoa_inPercent</th>\n",
       "      <th>Company_Location</th>\n",
       "      <th>Rating</th>\n",
       "      <th>Bean_Type</th>\n",
       "      <th>Broad Bean\\nOrigin</th>\n",
       "      <th>Cocoa_Percent</th>\n",
       "    </tr>\n",
       "  </thead>\n",
       "  <tbody>\n",
       "    <tr>\n",
       "      <th>0</th>\n",
       "      <td>A. Morin</td>\n",
       "      <td>Agua Grande</td>\n",
       "      <td>1876</td>\n",
       "      <td>2016</td>\n",
       "      <td>63%</td>\n",
       "      <td>France</td>\n",
       "      <td>3.75</td>\n",
       "      <td></td>\n",
       "      <td>Sao Tome</td>\n",
       "      <td>63.0</td>\n",
       "    </tr>\n",
       "    <tr>\n",
       "      <th>1</th>\n",
       "      <td>A. Morin</td>\n",
       "      <td>Kpime</td>\n",
       "      <td>1676</td>\n",
       "      <td>2015</td>\n",
       "      <td>70%</td>\n",
       "      <td>France</td>\n",
       "      <td>2.75</td>\n",
       "      <td></td>\n",
       "      <td>Togo</td>\n",
       "      <td>70.0</td>\n",
       "    </tr>\n",
       "    <tr>\n",
       "      <th>2</th>\n",
       "      <td>A. Morin</td>\n",
       "      <td>Atsane</td>\n",
       "      <td>1676</td>\n",
       "      <td>2015</td>\n",
       "      <td>70%</td>\n",
       "      <td>France</td>\n",
       "      <td>3.00</td>\n",
       "      <td></td>\n",
       "      <td>Togo</td>\n",
       "      <td>70.0</td>\n",
       "    </tr>\n",
       "    <tr>\n",
       "      <th>3</th>\n",
       "      <td>A. Morin</td>\n",
       "      <td>Akata</td>\n",
       "      <td>1680</td>\n",
       "      <td>2015</td>\n",
       "      <td>70%</td>\n",
       "      <td>France</td>\n",
       "      <td>3.50</td>\n",
       "      <td></td>\n",
       "      <td>Togo</td>\n",
       "      <td>70.0</td>\n",
       "    </tr>\n",
       "    <tr>\n",
       "      <th>4</th>\n",
       "      <td>A. Morin</td>\n",
       "      <td>Quilla</td>\n",
       "      <td>1704</td>\n",
       "      <td>2015</td>\n",
       "      <td>70%</td>\n",
       "      <td>France</td>\n",
       "      <td>3.50</td>\n",
       "      <td></td>\n",
       "      <td>Peru</td>\n",
       "      <td>70.0</td>\n",
       "    </tr>\n",
       "    <tr>\n",
       "      <th>...</th>\n",
       "      <td>...</td>\n",
       "      <td>...</td>\n",
       "      <td>...</td>\n",
       "      <td>...</td>\n",
       "      <td>...</td>\n",
       "      <td>...</td>\n",
       "      <td>...</td>\n",
       "      <td>...</td>\n",
       "      <td>...</td>\n",
       "      <td>...</td>\n",
       "    </tr>\n",
       "    <tr>\n",
       "      <th>1790</th>\n",
       "      <td>Zotter</td>\n",
       "      <td>Peru</td>\n",
       "      <td>647</td>\n",
       "      <td>2011</td>\n",
       "      <td>70%</td>\n",
       "      <td>Austria</td>\n",
       "      <td>3.75</td>\n",
       "      <td></td>\n",
       "      <td>Peru</td>\n",
       "      <td>70.0</td>\n",
       "    </tr>\n",
       "    <tr>\n",
       "      <th>1791</th>\n",
       "      <td>Zotter</td>\n",
       "      <td>Congo</td>\n",
       "      <td>749</td>\n",
       "      <td>2011</td>\n",
       "      <td>65%</td>\n",
       "      <td>Austria</td>\n",
       "      <td>3.00</td>\n",
       "      <td>Forastero</td>\n",
       "      <td>Congo</td>\n",
       "      <td>65.0</td>\n",
       "    </tr>\n",
       "    <tr>\n",
       "      <th>1792</th>\n",
       "      <td>Zotter</td>\n",
       "      <td>Kerala State</td>\n",
       "      <td>749</td>\n",
       "      <td>2011</td>\n",
       "      <td>65%</td>\n",
       "      <td>Austria</td>\n",
       "      <td>3.50</td>\n",
       "      <td>Forastero</td>\n",
       "      <td>India</td>\n",
       "      <td>65.0</td>\n",
       "    </tr>\n",
       "    <tr>\n",
       "      <th>1793</th>\n",
       "      <td>Zotter</td>\n",
       "      <td>Kerala State</td>\n",
       "      <td>781</td>\n",
       "      <td>2011</td>\n",
       "      <td>62%</td>\n",
       "      <td>Austria</td>\n",
       "      <td>3.25</td>\n",
       "      <td></td>\n",
       "      <td>India</td>\n",
       "      <td>62.0</td>\n",
       "    </tr>\n",
       "    <tr>\n",
       "      <th>1794</th>\n",
       "      <td>Zotter</td>\n",
       "      <td>Brazil, Mitzi Blue</td>\n",
       "      <td>486</td>\n",
       "      <td>2010</td>\n",
       "      <td>65%</td>\n",
       "      <td>Austria</td>\n",
       "      <td>3.00</td>\n",
       "      <td></td>\n",
       "      <td>Brazil</td>\n",
       "      <td>65.0</td>\n",
       "    </tr>\n",
       "  </tbody>\n",
       "</table>\n",
       "<p>1795 rows × 10 columns</p>\n",
       "</div>"
      ],
      "text/plain": [
       "     Company \\n(Maker-if known)            Bar_Name   REF  Review_Date  \\\n",
       "0                      A. Morin         Agua Grande  1876         2016   \n",
       "1                      A. Morin               Kpime  1676         2015   \n",
       "2                      A. Morin              Atsane  1676         2015   \n",
       "3                      A. Morin               Akata  1680         2015   \n",
       "4                      A. Morin              Quilla  1704         2015   \n",
       "...                         ...                 ...   ...          ...   \n",
       "1790                     Zotter                Peru   647         2011   \n",
       "1791                     Zotter               Congo   749         2011   \n",
       "1792                     Zotter        Kerala State   749         2011   \n",
       "1793                     Zotter        Kerala State   781         2011   \n",
       "1794                     Zotter  Brazil, Mitzi Blue   486         2010   \n",
       "\n",
       "     Cocoa_inPercent Company_Location  Rating  Bean_Type Broad Bean\\nOrigin  \\\n",
       "0                63%           France    3.75                      Sao Tome   \n",
       "1                70%           France    2.75                          Togo   \n",
       "2                70%           France    3.00                          Togo   \n",
       "3                70%           France    3.50                          Togo   \n",
       "4                70%           France    3.50                          Peru   \n",
       "...              ...              ...     ...        ...                ...   \n",
       "1790             70%          Austria    3.75                          Peru   \n",
       "1791             65%          Austria    3.00  Forastero              Congo   \n",
       "1792             65%          Austria    3.50  Forastero              India   \n",
       "1793             62%          Austria    3.25                         India   \n",
       "1794             65%          Austria    3.00                        Brazil   \n",
       "\n",
       "      Cocoa_Percent  \n",
       "0              63.0  \n",
       "1              70.0  \n",
       "2              70.0  \n",
       "3              70.0  \n",
       "4              70.0  \n",
       "...             ...  \n",
       "1790           70.0  \n",
       "1791           65.0  \n",
       "1792           65.0  \n",
       "1793           62.0  \n",
       "1794           65.0  \n",
       "\n",
       "[1795 rows x 10 columns]"
      ]
     },
     "execution_count": 14,
     "metadata": {},
     "output_type": "execute_result"
    }
   ],
   "source": [
    "Chocolaty_df"
   ]
  },
  {
   "cell_type": "markdown",
   "id": "c4e8097e",
   "metadata": {},
   "source": [
    "TO GET THE PARAMETERS LIKE MEAN , COUNT , MAX VALUE , MIN VALUE WE CAN USE THE describe() FUNCTION-"
   ]
  },
  {
   "cell_type": "code",
   "execution_count": 16,
   "id": "a0c689cb",
   "metadata": {},
   "outputs": [
    {
     "data": {
      "text/html": [
       "<div>\n",
       "<style scoped>\n",
       "    .dataframe tbody tr th:only-of-type {\n",
       "        vertical-align: middle;\n",
       "    }\n",
       "\n",
       "    .dataframe tbody tr th {\n",
       "        vertical-align: top;\n",
       "    }\n",
       "\n",
       "    .dataframe thead th {\n",
       "        text-align: right;\n",
       "    }\n",
       "</style>\n",
       "<table border=\"1\" class=\"dataframe\">\n",
       "  <thead>\n",
       "    <tr style=\"text-align: right;\">\n",
       "      <th></th>\n",
       "      <th>REF</th>\n",
       "      <th>Review_Date</th>\n",
       "      <th>Rating</th>\n",
       "      <th>Cocoa_Percent</th>\n",
       "    </tr>\n",
       "  </thead>\n",
       "  <tbody>\n",
       "    <tr>\n",
       "      <th>count</th>\n",
       "      <td>1795.000000</td>\n",
       "      <td>1795.000000</td>\n",
       "      <td>1795.000000</td>\n",
       "      <td>1795.000000</td>\n",
       "    </tr>\n",
       "    <tr>\n",
       "      <th>mean</th>\n",
       "      <td>1035.904735</td>\n",
       "      <td>2012.325348</td>\n",
       "      <td>3.185933</td>\n",
       "      <td>71.698329</td>\n",
       "    </tr>\n",
       "    <tr>\n",
       "      <th>std</th>\n",
       "      <td>552.886365</td>\n",
       "      <td>2.927210</td>\n",
       "      <td>0.478062</td>\n",
       "      <td>6.323118</td>\n",
       "    </tr>\n",
       "    <tr>\n",
       "      <th>min</th>\n",
       "      <td>5.000000</td>\n",
       "      <td>2006.000000</td>\n",
       "      <td>1.000000</td>\n",
       "      <td>42.000000</td>\n",
       "    </tr>\n",
       "    <tr>\n",
       "      <th>25%</th>\n",
       "      <td>576.000000</td>\n",
       "      <td>2010.000000</td>\n",
       "      <td>2.875000</td>\n",
       "      <td>70.000000</td>\n",
       "    </tr>\n",
       "    <tr>\n",
       "      <th>50%</th>\n",
       "      <td>1069.000000</td>\n",
       "      <td>2013.000000</td>\n",
       "      <td>3.250000</td>\n",
       "      <td>70.000000</td>\n",
       "    </tr>\n",
       "    <tr>\n",
       "      <th>75%</th>\n",
       "      <td>1502.000000</td>\n",
       "      <td>2015.000000</td>\n",
       "      <td>3.500000</td>\n",
       "      <td>75.000000</td>\n",
       "    </tr>\n",
       "    <tr>\n",
       "      <th>max</th>\n",
       "      <td>1952.000000</td>\n",
       "      <td>2017.000000</td>\n",
       "      <td>5.000000</td>\n",
       "      <td>100.000000</td>\n",
       "    </tr>\n",
       "  </tbody>\n",
       "</table>\n",
       "</div>"
      ],
      "text/plain": [
       "               REF  Review_Date       Rating  Cocoa_Percent\n",
       "count  1795.000000  1795.000000  1795.000000    1795.000000\n",
       "mean   1035.904735  2012.325348     3.185933      71.698329\n",
       "std     552.886365     2.927210     0.478062       6.323118\n",
       "min       5.000000  2006.000000     1.000000      42.000000\n",
       "25%     576.000000  2010.000000     2.875000      70.000000\n",
       "50%    1069.000000  2013.000000     3.250000      70.000000\n",
       "75%    1502.000000  2015.000000     3.500000      75.000000\n",
       "max    1952.000000  2017.000000     5.000000     100.000000"
      ]
     },
     "execution_count": 16,
     "metadata": {},
     "output_type": "execute_result"
    }
   ],
   "source": [
    "Chocolaty_df.describe()"
   ]
  },
  {
   "cell_type": "markdown",
   "id": "417d8630",
   "metadata": {},
   "source": [
    "### FUN_FACT-\n",
    "\n",
    "Chocolate was once money that literally grew on trees-\n",
    "\n",
    "In Mayan times, cacao beans were used as currency and considered to be worth more than gold dust. To keep the value of the cocoa bean in check, the cultivation of cacao trees was restricted. Otherwise, it would have been too tempting to just grow your own currency!"
   ]
  },
  {
   "cell_type": "markdown",
   "id": "1724976b",
   "metadata": {},
   "source": [
    "### LETS IMPORT MATPLOTLIB AND SEABORN -\n",
    "\n",
    "Q-What is matplotlib?\n",
    "\n",
    "Matplotlib is a plotting library for the Python programming language and its numerical mathematics extension NumPy. \n",
    "\n",
    "Qwhat is seaborn?\n",
    "\n",
    "Seaborn library aims to make a more attractive visualization of the central part of understanding and exploring data. It is built on the core of the matplotlib library and also provides dataset-oriented APIs."
   ]
  },
  {
   "cell_type": "code",
   "execution_count": 21,
   "id": "f981e7cb",
   "metadata": {},
   "outputs": [],
   "source": [
    "import matplotlib.pyplot as plt"
   ]
  },
  {
   "cell_type": "code",
   "execution_count": 18,
   "id": "326e3a5a",
   "metadata": {},
   "outputs": [],
   "source": [
    "import seaborn as sns"
   ]
  },
  {
   "cell_type": "markdown",
   "id": "bcc217e8",
   "metadata": {},
   "source": [
    "LETS PLOT A HISTOGRAM USING MATPLOTLIB FOR THE RATING OF THE CHOCOLATE BARS-\n",
    "\n",
    "QWhat is histogram?\n",
    "\n",
    "A histogram represents the distribution of a variable by creating bins (interval) along the range of values and showing vertical bars to indicate the number of observations in each bin.We can use the plt.hist function to create a histogram."
   ]
  },
  {
   "cell_type": "code",
   "execution_count": 23,
   "id": "3eae7d6c",
   "metadata": {},
   "outputs": [
    {
     "data": {
      "image/png": "[encoded data removed]",
      "text/plain": [
       "<Figure size 432x288 with 1 Axes>"
      ]
     },
     "metadata": {},
     "output_type": "display_data"
    }
   ],
   "source": [
    "sns.set_style(\"darkgrid\");\n",
    "#BY USING THIS GRID STYLE , IT BECOMES EASY FOR US TO READ THE PLOT.\n",
    "plt.title(\"Rating of the chocolate bars\")\n",
    "plt.hist(Chocolaty_df.Rating);"
   ]
  },
  {
   "cell_type": "markdown",
   "id": "a1a9f348",
   "metadata": {},
   "source": [
    "FROM THE ABOVE HISTOGRAM WE CAN CONCLUDE THAT THERE ARE APPROXLY 650 CHOCOLATE BARS WITH RATING IN THE RANGE OF 3 TO 3.5 . "
   ]
  },
  {
   "cell_type": "markdown",
   "id": "b7f53e6a",
   "metadata": {},
   "source": [
    "LETS DO THE SAME FOR TEH COCOA PERCENT."
   ]
  },
  {
   "cell_type": "code",
   "execution_count": 24,
   "id": "89ccf6d9",
   "metadata": {},
   "outputs": [
    {
     "data": {
      "image/png": "[encoded data removed]",
      "text/plain": [
       "<Figure size 432x288 with 1 Axes>"
      ]
     },
     "metadata": {},
     "output_type": "display_data"
    }
   ],
   "source": [
    "sns.set_style(\"darkgrid\");\n",
    "plt.title(\"COCOA PERCENT in the chocolate bars\")\n",
    "plt.hist(Chocolaty_df.Cocoa_Percent);"
   ]
  },
  {
   "cell_type": "markdown",
   "id": "1ff5ff8a",
   "metadata": {},
   "source": [
    "LOOKS LIKE NEARLY 780 BARS OF THE CHOCOLATES IN THE TABLE HAVE AROUND 65 TO 70 PERCENT OF COCOA CONTENT IN THEM."
   ]
  },
  {
   "cell_type": "markdown",
   "id": "a0e69551",
   "metadata": {},
   "source": [
    "### LETS FIND OUT WEATHER A REALTION EXIST IN BETWEEN CHOCOLATE RATING AND COCOA PERCENT"
   ]
  },
  {
   "cell_type": "markdown",
   "id": "c0175cb1",
   "metadata": {},
   "source": [
    "### DOES MORE COCOA CONTENT MEANS MORE RATING?"
   ]
  },
  {
   "cell_type": "markdown",
   "id": "26d09e03",
   "metadata": {},
   "source": [
    "LETS MAKE A SEPERATE DATA FRAME FOR THE RATING AND THE COCOA CONTENT.\n"
   ]
  },
  {
   "cell_type": "code",
   "execution_count": 26,
   "id": "20c100ca",
   "metadata": {},
   "outputs": [
    {
     "data": {
      "text/html": [
       "<div>\n",
       "<style scoped>\n",
       "    .dataframe tbody tr th:only-of-type {\n",
       "        vertical-align: middle;\n",
       "    }\n",
       "\n",
       "    .dataframe tbody tr th {\n",
       "        vertical-align: top;\n",
       "    }\n",
       "\n",
       "    .dataframe thead th {\n",
       "        text-align: right;\n",
       "    }\n",
       "</style>\n",
       "<table border=\"1\" class=\"dataframe\">\n",
       "  <thead>\n",
       "    <tr style=\"text-align: right;\">\n",
       "      <th></th>\n",
       "      <th>Rating</th>\n",
       "      <th>Cocoa_Percent</th>\n",
       "    </tr>\n",
       "  </thead>\n",
       "  <tbody>\n",
       "    <tr>\n",
       "      <th>0</th>\n",
       "      <td>3.75</td>\n",
       "      <td>63.0</td>\n",
       "    </tr>\n",
       "    <tr>\n",
       "      <th>1</th>\n",
       "      <td>2.75</td>\n",
       "      <td>70.0</td>\n",
       "    </tr>\n",
       "    <tr>\n",
       "      <th>2</th>\n",
       "      <td>3.00</td>\n",
       "      <td>70.0</td>\n",
       "    </tr>\n",
       "    <tr>\n",
       "      <th>3</th>\n",
       "      <td>3.50</td>\n",
       "      <td>70.0</td>\n",
       "    </tr>\n",
       "    <tr>\n",
       "      <th>4</th>\n",
       "      <td>3.50</td>\n",
       "      <td>70.0</td>\n",
       "    </tr>\n",
       "    <tr>\n",
       "      <th>...</th>\n",
       "      <td>...</td>\n",
       "      <td>...</td>\n",
       "    </tr>\n",
       "    <tr>\n",
       "      <th>1790</th>\n",
       "      <td>3.75</td>\n",
       "      <td>70.0</td>\n",
       "    </tr>\n",
       "    <tr>\n",
       "      <th>1791</th>\n",
       "      <td>3.00</td>\n",
       "      <td>65.0</td>\n",
       "    </tr>\n",
       "    <tr>\n",
       "      <th>1792</th>\n",
       "      <td>3.50</td>\n",
       "      <td>65.0</td>\n",
       "    </tr>\n",
       "    <tr>\n",
       "      <th>1793</th>\n",
       "      <td>3.25</td>\n",
       "      <td>62.0</td>\n",
       "    </tr>\n",
       "    <tr>\n",
       "      <th>1794</th>\n",
       "      <td>3.00</td>\n",
       "      <td>65.0</td>\n",
       "    </tr>\n",
       "  </tbody>\n",
       "</table>\n",
       "<p>1795 rows × 2 columns</p>\n",
       "</div>"
      ],
      "text/plain": [
       "      Rating  Cocoa_Percent\n",
       "0       3.75           63.0\n",
       "1       2.75           70.0\n",
       "2       3.00           70.0\n",
       "3       3.50           70.0\n",
       "4       3.50           70.0\n",
       "...      ...            ...\n",
       "1790    3.75           70.0\n",
       "1791    3.00           65.0\n",
       "1792    3.50           65.0\n",
       "1793    3.25           62.0\n",
       "1794    3.00           65.0\n",
       "\n",
       "[1795 rows x 2 columns]"
      ]
     },
     "execution_count": 26,
     "metadata": {},
     "output_type": "execute_result"
    }
   ],
   "source": [
    "RATINGvsCOCOA_df=pd.concat([Chocolaty_df.Rating,Chocolaty_df.Cocoa_Percent],axis=1,keys=['Rating','Cocoa_Percent'])\n",
    "RATINGvsCOCOA_df"
   ]
  },
  {
   "cell_type": "markdown",
   "id": "e0f044d8",
   "metadata": {},
   "source": [
    "WE USED THE CONCAT() FUNCTION IN THE PANDAS LIBRARY TO MAKE A NEW DATA FRAME OUT OF THE EXISTING DATA FRAME.\n",
    "\n",
    "QWhat is pd.concat() function?\n",
    "\n",
    "The pd.concat function is used to stack two or more DataFrames together."
   ]
  },
  {
   "cell_type": "markdown",
   "id": "b079dd7b",
   "metadata": {},
   "source": [
    "LETS PLOT A LINE PLOT TO FIND THE RELATION AND IF NECCESSARY WE WILL PLOT THE HEAT MAP TOO."
   ]
  },
  {
   "cell_type": "code",
   "execution_count": 25,
   "id": "52c48de7",
   "metadata": {},
   "outputs": [
    {
     "data": {
      "image/png": "[encoded data removed]",
      "text/plain": [
       "<Figure size 432x288 with 1 Axes>"
      ]
     },
     "metadata": {},
     "output_type": "display_data"
    }
   ],
   "source": [
    "#LETS SEE WHATS THE RESULT IF WE JUST PLOT THE LINE PLOT FOR FIRST 30 ROWS-\n",
    "rating=Chocolaty_df['Rating'].head(30);\n",
    "cocoa_percent=chocolaty_df['Cocoa_Percent'].head(30);\n",
    "plt.plot(rating, cocoa_percent,'s-b');\n",
    "#here the third argument has s-b meaning square dots, lines & blue colour lines.\n",
    "plt.xlabel('RATING');\n",
    "#labels are used to name the axis.\n",
    "plt.ylabel('PERCENT (%)');\n",
    "plt.title('COCOA PERCENT vs RATING');\n",
    "plt.legend(['choco_RATING']);"
   ]
  },
  {
   "cell_type": "markdown",
   "id": "39a4503a",
   "metadata": {},
   "source": [
    "LOOKS LIKE THERE ISN'T A LINEAR RELATION BETWEEN THE RATING AND THE COCOA CONTENT OF THE CHOCOLATE."
   ]
  },
  {
   "cell_type": "markdown",
   "id": "3485e41a",
   "metadata": {},
   "source": [
    "LETS SEE SOME QUESTIONS RELATED TO THIS DATA FRAME-"
   ]
  },
  {
   "cell_type": "markdown",
   "id": "f26bf1b6",
   "metadata": {},
   "source": [
    "### FUN_FACT-\n",
    "\n",
    " It took eight years to develop the recipe for milk chocolate"
   ]
  },
  {
   "cell_type": "markdown",
   "id": "556c085b",
   "metadata": {},
   "source": [
    "### Q-1)During which years did most review work occured?"
   ]
  },
  {
   "cell_type": "markdown",
   "id": "53de83f2",
   "metadata": {},
   "source": [
    "TO ANSWER THIS QUESTION WE CAN PLOT A HISTOGRAM OF REVIEW DATES -"
   ]
  },
  {
   "cell_type": "code",
   "execution_count": 28,
   "id": "a8631789",
   "metadata": {},
   "outputs": [
    {
     "data": {
      "image/png": "[encoded data removed]",
      "text/plain": [
       "<Figure size 432x288 with 1 Axes>"
      ]
     },
     "metadata": {},
     "output_type": "display_data"
    }
   ],
   "source": [
    "sns.set_style(\"whitegrid\");\n",
    "plt.title(\"REVIEW DATES\");\n",
    "plt.hist(Chocolaty_df.Review_Date);"
   ]
  },
  {
   "cell_type": "markdown",
   "id": "207e358e",
   "metadata": {},
   "source": [
    "From 2015 to 2016 , review occured the most i.e around 290 chocolate bars from different company's were reviewed"
   ]
  },
  {
   "cell_type": "markdown",
   "id": "c1fa2eb4",
   "metadata": {},
   "source": [
    "### Q-2) What are the top 5 countries where most of the chocolate company's located?"
   ]
  },
  {
   "cell_type": "code",
   "execution_count": 30,
   "id": "0606dded",
   "metadata": {},
   "outputs": [
    {
     "name": "stdout",
     "output_type": "stream",
     "text": [
      "The top 5 countries are ['U.S.A.', 'France', 'Canada', 'U.K.', 'Italy'].\n"
     ]
    }
   ],
   "source": [
    "x=Chocolaty_df['Company_Location'].value_counts()[:5].index.tolist()\n",
    "#we used the count function to find out most frequent countries and then we listed there values(country name) in a list using tolist().\n",
    "print('The top 5 countries are {}.'.format(x))"
   ]
  },
  {
   "cell_type": "markdown",
   "id": "e6d83d89",
   "metadata": {},
   "source": [
    "### Q-3) According to the flavor rating system , print a table of the ELITE chocolate bars."
   ]
  },
  {
   "cell_type": "code",
   "execution_count": 33,
   "id": "6efdef0f",
   "metadata": {},
   "outputs": [
    {
     "data": {
      "text/html": [
       "<div>\n",
       "<style scoped>\n",
       "    .dataframe tbody tr th:only-of-type {\n",
       "        vertical-align: middle;\n",
       "    }\n",
       "\n",
       "    .dataframe tbody tr th {\n",
       "        vertical-align: top;\n",
       "    }\n",
       "\n",
       "    .dataframe thead th {\n",
       "        text-align: right;\n",
       "    }\n",
       "</style>\n",
       "<table border=\"1\" class=\"dataframe\">\n",
       "  <thead>\n",
       "    <tr style=\"text-align: right;\">\n",
       "      <th></th>\n",
       "      <th>Company \\n(Maker-if known)</th>\n",
       "      <th>Bar_Name</th>\n",
       "      <th>REF</th>\n",
       "      <th>Review_Date</th>\n",
       "      <th>Cocoa_inPercent</th>\n",
       "      <th>Company_Location</th>\n",
       "      <th>Rating</th>\n",
       "      <th>Bean_Type</th>\n",
       "      <th>Broad Bean\\nOrigin</th>\n",
       "      <th>Cocoa_Percent</th>\n",
       "    </tr>\n",
       "  </thead>\n",
       "  <tbody>\n",
       "    <tr>\n",
       "      <th>78</th>\n",
       "      <td>Amedei</td>\n",
       "      <td>Chuao</td>\n",
       "      <td>111</td>\n",
       "      <td>2007</td>\n",
       "      <td>70%</td>\n",
       "      <td>Italy</td>\n",
       "      <td>5.0</td>\n",
       "      <td>Trinitario</td>\n",
       "      <td>Venezuela</td>\n",
       "      <td>70.0</td>\n",
       "    </tr>\n",
       "    <tr>\n",
       "      <th>86</th>\n",
       "      <td>Amedei</td>\n",
       "      <td>Toscano Black</td>\n",
       "      <td>40</td>\n",
       "      <td>2006</td>\n",
       "      <td>70%</td>\n",
       "      <td>Italy</td>\n",
       "      <td>5.0</td>\n",
       "      <td>Blend</td>\n",
       "      <td></td>\n",
       "      <td>70.0</td>\n",
       "    </tr>\n",
       "  </tbody>\n",
       "</table>\n",
       "</div>"
      ],
      "text/plain": [
       "   Company \\n(Maker-if known)       Bar_Name  REF  Review_Date  \\\n",
       "78                     Amedei          Chuao  111         2007   \n",
       "86                     Amedei  Toscano Black   40         2006   \n",
       "\n",
       "   Cocoa_inPercent Company_Location  Rating   Bean_Type Broad Bean\\nOrigin  \\\n",
       "78             70%            Italy     5.0  Trinitario          Venezuela   \n",
       "86             70%            Italy     5.0       Blend                      \n",
       "\n",
       "    Cocoa_Percent  \n",
       "78           70.0  \n",
       "86           70.0  "
      ]
     },
     "execution_count": 33,
     "metadata": {},
     "output_type": "execute_result"
    }
   ],
   "source": [
    "#FOR THIS WE CAN USE THE BOOLEAN EXPRESSION I.E >4 WILL BE THE ELITE CHOCOLATE BARS.\n",
    "high_rated_choco=Chocolaty_df.Rating>4\n",
    "Chocolaty_df[high_rated_choco]"
   ]
  },
  {
   "cell_type": "markdown",
   "id": "5948a24e",
   "metadata": {},
   "source": [
    "### Q-4) What are the lowest rated CHOCOLATE BARS?"
   ]
  },
  {
   "cell_type": "code",
   "execution_count": 55,
   "id": "d8d89c41",
   "metadata": {},
   "outputs": [
    {
     "data": {
      "text/html": [
       "<div>\n",
       "<style scoped>\n",
       "    .dataframe tbody tr th:only-of-type {\n",
       "        vertical-align: middle;\n",
       "    }\n",
       "\n",
       "    .dataframe tbody tr th {\n",
       "        vertical-align: top;\n",
       "    }\n",
       "\n",
       "    .dataframe thead th {\n",
       "        text-align: right;\n",
       "    }\n",
       "</style>\n",
       "<table border=\"1\" class=\"dataframe\">\n",
       "  <thead>\n",
       "    <tr style=\"text-align: right;\">\n",
       "      <th></th>\n",
       "      <th>Company \\n(Maker-if known)</th>\n",
       "      <th>Bar_Name</th>\n",
       "      <th>REF</th>\n",
       "      <th>Review_Date</th>\n",
       "      <th>Cocoa_inPercent</th>\n",
       "      <th>Company\\nLocation</th>\n",
       "      <th>Rating</th>\n",
       "      <th>Bean_Type</th>\n",
       "      <th>Broad Bean\\nOrigin</th>\n",
       "      <th>Cocoa_Percent</th>\n",
       "    </tr>\n",
       "  </thead>\n",
       "  <tbody>\n",
       "    <tr>\n",
       "      <th>125</th>\n",
       "      <td>Artisan du Chocolat</td>\n",
       "      <td>Venezuela</td>\n",
       "      <td>486</td>\n",
       "      <td>2010</td>\n",
       "      <td>100%</td>\n",
       "      <td>U.K.</td>\n",
       "      <td>1.75</td>\n",
       "      <td></td>\n",
       "      <td>Venezuela</td>\n",
       "      <td>100.0</td>\n",
       "    </tr>\n",
       "    <tr>\n",
       "      <th>132</th>\n",
       "      <td>Artisan du Chocolat</td>\n",
       "      <td>Brazil Rio Doce</td>\n",
       "      <td>363</td>\n",
       "      <td>2009</td>\n",
       "      <td>72%</td>\n",
       "      <td>U.K.</td>\n",
       "      <td>1.75</td>\n",
       "      <td></td>\n",
       "      <td>Brazil</td>\n",
       "      <td>72.0</td>\n",
       "    </tr>\n",
       "    <tr>\n",
       "      <th>245</th>\n",
       "      <td>Bonnat</td>\n",
       "      <td>One Hundred</td>\n",
       "      <td>81</td>\n",
       "      <td>2006</td>\n",
       "      <td>100%</td>\n",
       "      <td>France</td>\n",
       "      <td>1.50</td>\n",
       "      <td></td>\n",
       "      <td></td>\n",
       "      <td>100.0</td>\n",
       "    </tr>\n",
       "    <tr>\n",
       "      <th>249</th>\n",
       "      <td>Bouga Cacao (Tulicorp)</td>\n",
       "      <td>El Oro, Hacienda de Oro</td>\n",
       "      <td>341</td>\n",
       "      <td>2009</td>\n",
       "      <td>100%</td>\n",
       "      <td>Ecuador</td>\n",
       "      <td>1.50</td>\n",
       "      <td>Forastero (Arriba)</td>\n",
       "      <td>Ecuador</td>\n",
       "      <td>100.0</td>\n",
       "    </tr>\n",
       "    <tr>\n",
       "      <th>324</th>\n",
       "      <td>Cacaoyere (Ecuatoriana)</td>\n",
       "      <td>Pichincha</td>\n",
       "      <td>259</td>\n",
       "      <td>2008</td>\n",
       "      <td>91%</td>\n",
       "      <td>Ecuador</td>\n",
       "      <td>1.50</td>\n",
       "      <td>Forastero (Arriba)</td>\n",
       "      <td>Ecuador</td>\n",
       "      <td>91.0</td>\n",
       "    </tr>\n",
       "    <tr>\n",
       "      <th>326</th>\n",
       "      <td>Callebaut</td>\n",
       "      <td>Baking</td>\n",
       "      <td>141</td>\n",
       "      <td>2007</td>\n",
       "      <td>70%</td>\n",
       "      <td>Belgium</td>\n",
       "      <td>1.00</td>\n",
       "      <td></td>\n",
       "      <td>Ecuador</td>\n",
       "      <td>70.0</td>\n",
       "    </tr>\n",
       "    <tr>\n",
       "      <th>437</th>\n",
       "      <td>Claudio Corallo</td>\n",
       "      <td>Principe</td>\n",
       "      <td>252</td>\n",
       "      <td>2008</td>\n",
       "      <td>100%</td>\n",
       "      <td>Sao Tome</td>\n",
       "      <td>1.00</td>\n",
       "      <td>Forastero</td>\n",
       "      <td>Sao Tome &amp; Principe</td>\n",
       "      <td>100.0</td>\n",
       "    </tr>\n",
       "    <tr>\n",
       "      <th>449</th>\n",
       "      <td>Coppeneur</td>\n",
       "      <td>Ecuador Puristique</td>\n",
       "      <td>817</td>\n",
       "      <td>2012</td>\n",
       "      <td>100%</td>\n",
       "      <td>Germany</td>\n",
       "      <td>1.50</td>\n",
       "      <td></td>\n",
       "      <td>Ecuador</td>\n",
       "      <td>100.0</td>\n",
       "    </tr>\n",
       "    <tr>\n",
       "      <th>465</th>\n",
       "      <td>Cote d' Or (Kraft)</td>\n",
       "      <td>Sensations Intense</td>\n",
       "      <td>48</td>\n",
       "      <td>2006</td>\n",
       "      <td>70%</td>\n",
       "      <td>Belgium</td>\n",
       "      <td>1.00</td>\n",
       "      <td></td>\n",
       "      <td></td>\n",
       "      <td>70.0</td>\n",
       "    </tr>\n",
       "    <tr>\n",
       "      <th>554</th>\n",
       "      <td>Dolfin (Belcolade)</td>\n",
       "      <td>Noir</td>\n",
       "      <td>63</td>\n",
       "      <td>2006</td>\n",
       "      <td>70%</td>\n",
       "      <td>Belgium</td>\n",
       "      <td>1.50</td>\n",
       "      <td></td>\n",
       "      <td></td>\n",
       "      <td>70.0</td>\n",
       "    </tr>\n",
       "    <tr>\n",
       "      <th>828</th>\n",
       "      <td>Hotel Chocolat</td>\n",
       "      <td>Island Growers, 2012, 120hr c.</td>\n",
       "      <td>1113</td>\n",
       "      <td>2013</td>\n",
       "      <td>100%</td>\n",
       "      <td>U.K.</td>\n",
       "      <td>1.75</td>\n",
       "      <td>Trinitario</td>\n",
       "      <td>St. Lucia</td>\n",
       "      <td>100.0</td>\n",
       "    </tr>\n",
       "    <tr>\n",
       "      <th>988</th>\n",
       "      <td>Machu Picchu Trading Co.</td>\n",
       "      <td>Peru</td>\n",
       "      <td>721</td>\n",
       "      <td>2011</td>\n",
       "      <td>70%</td>\n",
       "      <td>Peru</td>\n",
       "      <td>1.50</td>\n",
       "      <td></td>\n",
       "      <td>Peru</td>\n",
       "      <td>70.0</td>\n",
       "    </tr>\n",
       "    <tr>\n",
       "      <th>1129</th>\n",
       "      <td>Middlebury</td>\n",
       "      <td>Houseblend</td>\n",
       "      <td>887</td>\n",
       "      <td>2012</td>\n",
       "      <td>65%</td>\n",
       "      <td>U.S.A.</td>\n",
       "      <td>1.50</td>\n",
       "      <td></td>\n",
       "      <td></td>\n",
       "      <td>65.0</td>\n",
       "    </tr>\n",
       "    <tr>\n",
       "      <th>1175</th>\n",
       "      <td>Neuhaus (Callebaut)</td>\n",
       "      <td>Dark</td>\n",
       "      <td>135</td>\n",
       "      <td>2007</td>\n",
       "      <td>73%</td>\n",
       "      <td>Belgium</td>\n",
       "      <td>1.00</td>\n",
       "      <td></td>\n",
       "      <td></td>\n",
       "      <td>73.0</td>\n",
       "    </tr>\n",
       "    <tr>\n",
       "      <th>1411</th>\n",
       "      <td>S.A.I.D.</td>\n",
       "      <td>100 percent</td>\n",
       "      <td>615</td>\n",
       "      <td>2010</td>\n",
       "      <td>100%</td>\n",
       "      <td>Italy</td>\n",
       "      <td>1.50</td>\n",
       "      <td></td>\n",
       "      <td></td>\n",
       "      <td>100.0</td>\n",
       "    </tr>\n",
       "    <tr>\n",
       "      <th>1492</th>\n",
       "      <td>Snake &amp; Butterfly</td>\n",
       "      <td>Ghana</td>\n",
       "      <td>693</td>\n",
       "      <td>2011</td>\n",
       "      <td>67%</td>\n",
       "      <td>U.S.A.</td>\n",
       "      <td>1.50</td>\n",
       "      <td>Forastero</td>\n",
       "      <td>Ghana</td>\n",
       "      <td>67.0</td>\n",
       "    </tr>\n",
       "    <tr>\n",
       "      <th>1694</th>\n",
       "      <td>Valrhona</td>\n",
       "      <td>Le Noir Extra Amer</td>\n",
       "      <td>147</td>\n",
       "      <td>2007</td>\n",
       "      <td>85%</td>\n",
       "      <td>France</td>\n",
       "      <td>1.50</td>\n",
       "      <td></td>\n",
       "      <td></td>\n",
       "      <td>85.0</td>\n",
       "    </tr>\n",
       "  </tbody>\n",
       "</table>\n",
       "</div>"
      ],
      "text/plain": [
       "     Company \\n(Maker-if known)                        Bar_Name   REF  \\\n",
       "125         Artisan du Chocolat                       Venezuela   486   \n",
       "132         Artisan du Chocolat                 Brazil Rio Doce   363   \n",
       "245                      Bonnat                     One Hundred    81   \n",
       "249      Bouga Cacao (Tulicorp)         El Oro, Hacienda de Oro   341   \n",
       "324     Cacaoyere (Ecuatoriana)                       Pichincha   259   \n",
       "326                   Callebaut                          Baking   141   \n",
       "437             Claudio Corallo                        Principe   252   \n",
       "449                   Coppeneur              Ecuador Puristique   817   \n",
       "465          Cote d' Or (Kraft)              Sensations Intense    48   \n",
       "554          Dolfin (Belcolade)                            Noir    63   \n",
       "828              Hotel Chocolat  Island Growers, 2012, 120hr c.  1113   \n",
       "988    Machu Picchu Trading Co.                            Peru   721   \n",
       "1129                 Middlebury                      Houseblend   887   \n",
       "1175        Neuhaus (Callebaut)                            Dark   135   \n",
       "1411                   S.A.I.D.                     100 percent   615   \n",
       "1492          Snake & Butterfly                           Ghana   693   \n",
       "1694                   Valrhona              Le Noir Extra Amer   147   \n",
       "\n",
       "      Review_Date Cocoa_inPercent Company\\nLocation  Rating  \\\n",
       "125          2010            100%              U.K.    1.75   \n",
       "132          2009             72%              U.K.    1.75   \n",
       "245          2006            100%            France    1.50   \n",
       "249          2009            100%           Ecuador    1.50   \n",
       "324          2008             91%           Ecuador    1.50   \n",
       "326          2007             70%           Belgium    1.00   \n",
       "437          2008            100%          Sao Tome    1.00   \n",
       "449          2012            100%           Germany    1.50   \n",
       "465          2006             70%           Belgium    1.00   \n",
       "554          2006             70%           Belgium    1.50   \n",
       "828          2013            100%              U.K.    1.75   \n",
       "988          2011             70%              Peru    1.50   \n",
       "1129         2012             65%            U.S.A.    1.50   \n",
       "1175         2007             73%           Belgium    1.00   \n",
       "1411         2010            100%             Italy    1.50   \n",
       "1492         2011             67%            U.S.A.    1.50   \n",
       "1694         2007             85%            France    1.50   \n",
       "\n",
       "               Bean_Type   Broad Bean\\nOrigin  Cocoa_Percent  \n",
       "125                                 Venezuela          100.0  \n",
       "132                                    Brazil           72.0  \n",
       "245                                                    100.0  \n",
       "249   Forastero (Arriba)              Ecuador          100.0  \n",
       "324   Forastero (Arriba)              Ecuador           91.0  \n",
       "326                                   Ecuador           70.0  \n",
       "437            Forastero  Sao Tome & Principe          100.0  \n",
       "449                                   Ecuador          100.0  \n",
       "465                                                     70.0  \n",
       "554                                                     70.0  \n",
       "828           Trinitario            St. Lucia          100.0  \n",
       "988                                      Peru           70.0  \n",
       "1129                                                    65.0  \n",
       "1175                                                    73.0  \n",
       "1411                                                   100.0  \n",
       "1492           Forastero                Ghana           67.0  \n",
       "1694                                                    85.0  "
      ]
     },
     "execution_count": 55,
     "metadata": {},
     "output_type": "execute_result"
    }
   ],
   "source": [
    "lowest_rated=Chocolaty_df.Rating<2\n",
    "x=lowest_rated.count()\n",
    "Chocolaty_df[lowest_rated]\n"
   ]
  },
  {
   "cell_type": "code",
   "execution_count": 57,
   "id": "1f23c349",
   "metadata": {},
   "outputs": [
    {
     "name": "stdout",
     "output_type": "stream",
     "text": [
      "There are 1795 unpleasant chocolate bars and the above table shows the list of unpleasant chocolate bars.\n"
     ]
    }
   ],
   "source": [
    "print('There are {} unpleasant chocolate bars and the above table shows the list of unpleasant chocolate bars.'.format(x))"
   ]
  },
  {
   "cell_type": "markdown",
   "id": "1ac64a65",
   "metadata": {},
   "source": [
    "### Q-5) What is the average cocoa percentage of the chocolate bars?"
   ]
  },
  {
   "cell_type": "markdown",
   "id": "8526c9dc",
   "metadata": {},
   "source": [
    "WE CAN CREATE A HISTOGRAM TO ANSWER THIS QUESTION."
   ]
  },
  {
   "cell_type": "code",
   "execution_count": 58,
   "id": "e1a3803a",
   "metadata": {},
   "outputs": [
    {
     "data": {
      "image/png": "[encoded data removed]",
      "text/plain": [
       "<Figure size 432x288 with 1 Axes>"
      ]
     },
     "metadata": {},
     "output_type": "display_data"
    }
   ],
   "source": [
    "sns.set_style(\"darkgrid\");\n",
    "plt.title(\"COCOA PERCENT in the chocolate bars\")\n",
    "plt.hist(Chocolaty_df.Cocoa_Percent);"
   ]
  },
  {
   "cell_type": "markdown",
   "id": "106e87ad",
   "metadata": {},
   "source": [
    "AROUND 790 CHOCOLATE BARS HAVE 65 TO 70 % OF COCOA CINTENT IN THEM , THEREFORE 67.5 IS THE AVERAGE COCOA CONTENT."
   ]
  },
  {
   "cell_type": "markdown",
   "id": "8c635ee3",
   "metadata": {},
   "source": [
    "### FUN_FACT-\n",
    "\n",
    "It takes 400 cacao beans to make just one pound of chocolate."
   ]
  },
  {
   "cell_type": "markdown",
   "id": "e07fb1de",
   "metadata": {},
   "source": [
    "## Inferences and Conclusion"
   ]
  },
  {
   "cell_type": "markdown",
   "id": "90946cf1",
   "metadata": {},
   "source": [
    "We have statistical solutions as-\n",
    "1) Nearly 780 Bars of the chocolates in the table have around 65  to 70 % cocoa in them.\n",
    "\n",
    "2) There are 1795 unpleasant chocolate bars and the above table shows the list of unpleasant chocolate bars.\n",
    "\n",
    "3) The top 5 countries where most of the chocolate company's are located are U.S.A., France, Canada, U.K., Italy.\n",
    "\n",
    "4) Ther are around 650 bars with rating in range 3 to 3.5\n",
    "\n",
    "Flavor is the most important component of the Flavors of Cacao ratings. Diversity, balance, intensity and purity of flavors are all considered. It is possible for a straight forward single note chocolate to rate as high as a complex flavor profile that changes throughout. Genetics, terroir, post harvest techniques, processing and storage can all be discussed when considering the flavor component.\n",
    "\n",
    "Texture has a great impact on the overall experience and it is also possible for texture related issues to impact flavor. It is a good way to evaluate the makers vision, attention to detail and level of proficiency.\n",
    "\n",
    "Aftermelt is the experience after the chocolate has melted. Higher quality chocolate will linger and be long lasting and enjoyable. Since the aftermelt is the last impression you get from the chocolate, it receives equal importance in the overall rating.\n",
    "\n",
    "Overall Opinion is really where the ratings reflect a subjective opinion. Ideally it is my evaluation of whether or not the components above worked together and an opinion on the flavor development, character and style. It is also here where each chocolate can usually be summarized by the most prominent impressions that you would remember about each chocolate.\n",
    "These ratings were compiled by Brady Brelinski, Founding Member of the Manhattan Chocolate Society. \n",
    "\n",
    "### Libraries we imported-\n",
    "1) pandas\n",
    "\n",
    "2) matplot\n",
    "\n",
    "3) seaborn"
   ]
  },
  {
   "cell_type": "markdown",
   "id": "a3341f63",
   "metadata": {},
   "source": [
    "Link to the data set that was used-\n",
    "[Flavors of Chocolate 🍫](https://www.kaggle.com/rtatman/chocolate-bar-ratings)"
   ]
  },
  {
   "cell_type": "markdown",
   "id": "c5151dfa",
   "metadata": {},
   "source": [
    "## THANK YOU"
   ]
  }
 ],
 "metadata": {
  "kernelspec": {
   "display_name": "Python 3 (ipykernel)",
   "language": "python",
   "name": "python3"
  },
  "language_info": {
   "codemirror_mode": {
    "name": "ipython",
    "version": 3
   },
   "file_extension": ".py",
   "mimetype": "text/x-python",
   "name": "python",
   "nbconvert_exporter": "python",
   "pygments_lexer": "ipython3",
   "version": "3.10.0"
  }
 },
 "nbformat": 4,
 "nbformat_minor": 5
}
